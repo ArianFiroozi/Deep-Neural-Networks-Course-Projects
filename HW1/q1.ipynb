{
 "cells": [
  {
   "cell_type": "code",
   "execution_count": 2,
   "metadata": {},
   "outputs": [],
   "source": [
    "import numpy as np"
   ]
  },
  {
   "cell_type": "code",
   "execution_count": 223,
   "metadata": {},
   "outputs": [],
   "source": [
    "class ANet:\n",
    "    def __init__(self):\n",
    "        pass\n",
    "    def forward(self, x, w1, w2):\n",
    "        a = np.dot(x, w1)\n",
    "        z = np.tanh(a)\n",
    "        y_pred=np.dot(z,w2)\n",
    "\n",
    "        return z, y_pred\n",
    "    \n",
    "    def __tanh_derivative(self, x):\n",
    "        return 1 - np.tanh(x)**2\n",
    "    \n",
    "    def backward(self, x, y, m, iters, lr):\n",
    "        w1 = np.random.randn(x.shape[-1], m)\n",
    "        w2 = np.random.randn(m, 1)\n",
    "\n",
    "        errors = []\n",
    "\n",
    "        for i in range(iters):\n",
    "            z, pred_y = self.forward(x, w1, w2)\n",
    "\n",
    "            error = pred_y - y\n",
    "\n",
    "            dw2 = np.dot(z.T, error)\n",
    "            dw1 = np.dot(x.T, error.dot(w2.T) * self.__tanh_derivative(np.dot(x, w1)))\n",
    "\n",
    "            w2 -= lr * dw2\n",
    "            w1 -= lr * dw1\n",
    "\n",
    "            errors.append(error**2)\n",
    "\n",
    "        return w1, w2, errors\n"
   ]
  },
  {
   "cell_type": "code",
   "execution_count": 229,
   "metadata": {},
   "outputs": [
    {
     "data": {
      "text/plain": [
       "array([[0.00000000e+00],\n",
       "       [4.29066377e-29],\n",
       "       [7.88860905e-31],\n",
       "       [4.43734259e-31],\n",
       "       [4.43734259e-31]])"
      ]
     },
     "execution_count": 229,
     "metadata": {},
     "output_type": "execute_result"
    }
   ],
   "source": [
    "a=ANet()\n",
    "N, D, M = 5, 3, 30\n",
    "X = np.random.randn(N, D)\n",
    "\n",
    "y = np.random.randint(0, 1, size=(5, 1))\n",
    "\n",
    "w1, w2, errors=a.backward(X, y, M, 100, 0.01)\n",
    "_, pred=a.forward(X, w1, w2)\n",
    "errors[-1]"
   ]
  }
 ],
 "metadata": {
  "kernelspec": {
   "display_name": "Python 3",
   "language": "python",
   "name": "python3"
  },
  "language_info": {
   "codemirror_mode": {
    "name": "ipython",
    "version": 3
   },
   "file_extension": ".py",
   "mimetype": "text/x-python",
   "name": "python",
   "nbconvert_exporter": "python",
   "pygments_lexer": "ipython3",
   "version": "3.13.0"
  }
 },
 "nbformat": 4,
 "nbformat_minor": 2
}
