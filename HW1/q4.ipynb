{
 "cells": [
  {
   "cell_type": "code",
   "execution_count": 13,
   "metadata": {},
   "outputs": [],
   "source": [
    "import numpy as np\n",
    "import pandas as pd"
   ]
  },
  {
   "cell_type": "code",
   "execution_count": 47,
   "metadata": {},
   "outputs": [],
   "source": [
    "data = pd.read_csv(\"data/Question4.csv\")"
   ]
  },
  {
   "cell_type": "markdown",
   "metadata": {},
   "source": [
    "### 4.1 Nan count"
   ]
  },
  {
   "cell_type": "code",
   "execution_count": 55,
   "metadata": {},
   "outputs": [
    {
     "name": "stdout",
     "output_type": "stream",
     "text": [
      "Nan values in id: 0\n",
      "Nan values in date: 0\n",
      "Nan values in price: 0\n",
      "Nan values in bedrooms: 0\n",
      "Nan values in bathrooms: 0\n",
      "Nan values in sqft_living: 0\n",
      "Nan values in sqft_lot: 0\n",
      "Nan values in floors: 0\n",
      "Nan values in waterfront: 0\n",
      "Nan values in view: 0\n",
      "Nan values in condition: 0\n",
      "Nan values in grade: 0\n",
      "Nan values in sqft_above: 0\n",
      "Nan values in sqft_basement: 0\n",
      "Nan values in yr_built: 0\n",
      "Nan values in yr_renovated: 0\n",
      "Nan values in zipcode: 0\n",
      "Nan values in lat: 0\n",
      "Nan values in long: 0\n",
      "Nan values in sqft_living15: 0\n",
      "Nan values in sqft_lot15: 0\n"
     ]
    }
   ],
   "source": [
    "for col in data.head():\n",
    "    print(f\"Nan values in {col}:\", sum(1 if pd.isnull(data[col][i]) else 0 for i in range(data[col].size)))"
   ]
  },
  {
   "cell_type": "markdown",
   "metadata": {},
   "source": [
    "### 4.2 Correlation"
   ]
  },
  {
   "cell_type": "code",
   "execution_count": 31,
   "metadata": {},
   "outputs": [
    {
     "data": {
      "text/plain": [
       "nan"
      ]
     },
     "execution_count": 31,
     "metadata": {},
     "output_type": "execute_result"
    }
   ],
   "source": []
  }
 ],
 "metadata": {
  "kernelspec": {
   "display_name": "Python 3",
   "language": "python",
   "name": "python3"
  },
  "language_info": {
   "codemirror_mode": {
    "name": "ipython",
    "version": 3
   },
   "file_extension": ".py",
   "mimetype": "text/x-python",
   "name": "python",
   "nbconvert_exporter": "python",
   "pygments_lexer": "ipython3",
   "version": "3.13.0"
  }
 },
 "nbformat": 4,
 "nbformat_minor": 2
}
